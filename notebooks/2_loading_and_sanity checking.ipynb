{
 "cells": [
  {
   "cell_type": "code",
   "execution_count": null,
   "id": "dc313284-fcc5-41bf-b71f-4d1a68df3e3f",
   "metadata": {},
   "outputs": [],
   "source": [
    "import pandas as pd\n",
    "import seaborn as sns\n",
    "\n",
    "from keplergl import KeplerGl\n",
    "import base64\n",
    "import IPython\n"
   ]
  },
  {
   "cell_type": "markdown",
   "id": "3c747aee-d337-43d8-9bfa-d98b8ed0f7b1",
   "metadata": {},
   "source": [
    "# Load the data"
   ]
  },
  {
   "cell_type": "code",
   "execution_count": null,
   "id": "d8f0c6f0-0344-4f61-9d14-40fa3a4026f1",
   "metadata": {},
   "outputs": [],
   "source": [
    "train_2016 = pd.read_csv('https://drive.google.com/uc?id=15GlcdLJ79bc5_WhVNViepQaXvsE1vYb8')\n",
    "# train_2017 = pd.read_csv('https://drive.google.com/uc?id=1plmVfkf9wn5zXxjsJFKBkOrNmF-E31CT')\n"
   ]
  },
  {
   "cell_type": "code",
   "execution_count": null,
   "id": "f9afe273-68b1-4d5e-8a48-7f46552b1b1f",
   "metadata": {},
   "outputs": [],
   "source": [
    "properties_2016 = pd.read_csv('/Users/yang/Downloads/properties_2016.csv')\n",
    "# properties_2017 = pd.read_csv('/Users/yang/Downloads/properties_2017.csv')\n"
   ]
  },
  {
   "cell_type": "markdown",
   "id": "de169271-0236-4ce9-959b-a4e44388029c",
   "metadata": {},
   "source": [
    "# Sanity check data"
   ]
  },
  {
   "cell_type": "code",
   "execution_count": null,
   "id": "506cbfc1-e52a-4116-9301-cb20c39c5467",
   "metadata": {},
   "outputs": [],
   "source": [
    "# check head of the data to make sure we're importing what we're expecting\n",
    "properties_2016.head()"
   ]
  },
  {
   "cell_type": "code",
   "execution_count": null,
   "id": "c6383543-04de-4cd8-90e2-fd9f14655a25",
   "metadata": {},
   "outputs": [],
   "source": [
    "train_2016.head()"
   ]
  },
  {
   "cell_type": "code",
   "execution_count": null,
   "id": "0dc5c25e-1018-407c-a5ce-38da4ff44ab6",
   "metadata": {},
   "outputs": [],
   "source": [
    "# let's check what percentage of the data is null\n",
    "coverage_stats = (properties_2016.isnull().sum() / properties_2016.shape[0])\n",
    "coverage_stats.sort_values(ascending=False)"
   ]
  },
  {
   "cell_type": "code",
   "execution_count": null,
   "id": "dd5d41e4-6b5a-40bf-81b9-201338bf1d81",
   "metadata": {},
   "outputs": [],
   "source": [
    "# we have about 24 okay features, then coverage really starts to tank\n",
    "coverage_stats.sort_values(ascending=False).plot.bar(figsize=(30,10))"
   ]
  },
  {
   "cell_type": "markdown",
   "id": "3071b228-c58f-41bf-9a9b-4c1b9f4eb005",
   "metadata": {},
   "source": [
    "# Join training data to features"
   ]
  },
  {
   "cell_type": "code",
   "execution_count": null,
   "id": "c71d55d5-9417-48eb-a875-2f47e5109e3a",
   "metadata": {},
   "outputs": [],
   "source": [
    "training_data = pd.merge(train_2016, properties_2016, on=['parcelid'], how='inner')"
   ]
  },
  {
   "cell_type": "code",
   "execution_count": null,
   "id": "103026a2-3df9-40c0-8eef-d7133e3e389b",
   "metadata": {},
   "outputs": [],
   "source": [
    "coverage_stats = (training_data.isnull().sum() / training_data.shape[0])\n",
    "training_data.sort_values(ascending=False)"
   ]
  },
  {
   "cell_type": "code",
   "execution_count": null,
   "id": "73b07fdf-c917-4bbd-bf8a-6b68be6bb197",
   "metadata": {},
   "outputs": [],
   "source": [
    "coverage_stats.sort_values(ascending=False).plot.bar(figsize=(30,10))"
   ]
  },
  {
   "cell_type": "code",
   "execution_count": null,
   "id": "aa141fbb-7466-4803-8e72-2cec576aecc8",
   "metadata": {},
   "outputs": [],
   "source": [
    "# let's check where these homes actually are\n",
    "map_data = training_data.assign(latitude=training_data.latitude/1e6, longitude=training_data.longitude/1e6)[['parcelid', 'latitude', 'longitude']].sample(10000)\n",
    "\n",
    "properties_map = KeplerGl(\n",
    "    data={\n",
    "        'properties': map_data\n",
    "    },\n",
    "    config={\n",
    "        'version': 'v1',\n",
    "        'config': {\n",
    "            'mapState': {\n",
    "                'latitude': map_data.latitude.mean(),\n",
    "                'longitude': map_data.longitude.mean()\n",
    "            }\n",
    "        }\n",
    "    }\n",
    ")\n",
    "b64d_html = base64.b64encode(str(properties_map._repr_html_(),'utf-8').encode('utf-8')).decode('utf-8')\n",
    "framed_html = f'<iframe src=\"data:text/html;base64,{b64d_html}\" style=\"width:95%; height: 600px\">'\n",
    "IPython.display.HTML(framed_html)\n",
    "\n"
   ]
  },
  {
   "cell_type": "code",
   "execution_count": null,
   "id": "f016f99a-5134-45eb-a83d-13c2d48e790c",
   "metadata": {},
   "outputs": [],
   "source": []
  }
 ],
 "metadata": {
  "kernelspec": {
   "display_name": "Python 3 (ipykernel)",
   "language": "python",
   "name": "python3"
  },
  "language_info": {
   "codemirror_mode": {
    "name": "ipython",
    "version": 3
   },
   "file_extension": ".py",
   "mimetype": "text/x-python",
   "name": "python",
   "nbconvert_exporter": "python",
   "pygments_lexer": "ipython3",
   "version": "3.8.11"
  }
 },
 "nbformat": 4,
 "nbformat_minor": 5
}
