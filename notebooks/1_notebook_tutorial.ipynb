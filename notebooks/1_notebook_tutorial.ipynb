{
 "cells": [
  {
   "cell_type": "code",
   "execution_count": null,
   "id": "79f60253-989e-492c-987f-71f57922cd25",
   "metadata": {},
   "outputs": [],
   "source": [
    "# Importing\n",
    "import pandas as pd\n",
    "import seaborn as sns\n",
    "\n",
    "sns.set_theme(style=\"darkgrid\")\n"
   ]
  },
  {
   "cell_type": "code",
   "execution_count": null,
   "id": "55a64f81-31ad-40d9-8dc1-bb8f82f65b63",
   "metadata": {},
   "outputs": [],
   "source": [
    "# running basic commands are just liek python\n",
    "a = 1"
   ]
  },
  {
   "cell_type": "code",
   "execution_count": null,
   "id": "4a1df9de-4658-43cb-b6d3-76edb70db748",
   "metadata": {},
   "outputs": [],
   "source": [
    "a"
   ]
  },
  {
   "cell_type": "code",
   "execution_count": null,
   "id": "071a1c78-66fa-4f89-a42a-ce7f0dc734c1",
   "metadata": {},
   "outputs": [],
   "source": [
    "# you can put blocks of code in\n",
    "df = pd.DataFrame({'a': [1, 2, 3], 'b': ['a', 'b', 'c']})\n",
    "df"
   ]
  },
  {
   "cell_type": "code",
   "execution_count": null,
   "id": "1b7070fb-57e8-4cf9-a263-c59e5491b840",
   "metadata": {},
   "outputs": [],
   "source": [
    "# plotting is easy - just run your favorite plotting lib\n",
    "%matplotlib inline\n",
    "tips = sns.load_dataset(\"tips\")\n",
    "iris = sns.load_dataset(\"iris\")\n",
    "\n",
    "sns.relplot(x=\"total_bill\", y=\"tip\", data=tips);\n"
   ]
  },
  {
   "cell_type": "code",
   "execution_count": null,
   "id": "77e877e5-234a-4721-8f61-b114d8ac7403",
   "metadata": {},
   "outputs": [],
   "source": [
    "# you can be pretty flexible with plotting\n",
    "g = sns.FacetGrid(tips, col=\"time\")\n",
    "g.map(sns.histplot, \"tip\")"
   ]
  },
  {
   "cell_type": "code",
   "execution_count": null,
   "id": "6aafb8f6-824f-4176-9b5c-a1de406e9e7d",
   "metadata": {},
   "outputs": [],
   "source": [
    "# very, very flexible\n",
    "g = sns.PairGrid(iris, hue=\"species\")\n",
    "g.map_diag(sns.histplot)\n",
    "g.map_offdiag(sns.scatterplot)\n",
    "g.add_legend()\n"
   ]
  },
  {
   "cell_type": "code",
   "execution_count": null,
   "id": "48fa7fa6-e212-4916-83bc-33e370d59615",
   "metadata": {},
   "outputs": [],
   "source": [
    "# there are also magic functions - e.g. commandline\n",
    "!ls"
   ]
  },
  {
   "cell_type": "code",
   "execution_count": null,
   "id": "fb634ac1-00f8-44e9-98af-3a31bbfcaea5",
   "metadata": {},
   "outputs": [],
   "source": [
    "# use %matplotlib inline to display matplotlib graphs by default\n",
    "%matplotlib inline"
   ]
  },
  {
   "cell_type": "code",
   "execution_count": null,
   "id": "db7d03b8-9bea-4a37-bce5-ede1523fb80f",
   "metadata": {},
   "outputs": [],
   "source": [
    "# timer for a single line\n",
    "%time 12 * 23"
   ]
  },
  {
   "cell_type": "code",
   "execution_count": null,
   "id": "3542f3d9-e8b8-4ad9-bd44-d69257da2893",
   "metadata": {},
   "outputs": [],
   "source": [
    "%%timeit -n2\n",
    "# or for a code block\n",
    "\n",
    "a = 2\n",
    "b = 10\n",
    "for i in range(10):\n",
    "    a*=a"
   ]
  },
  {
   "cell_type": "code",
   "execution_count": null,
   "id": "344e8679-e669-4a8f-8044-c7f79efd9687",
   "metadata": {},
   "outputs": [],
   "source": [
    "# get and set environment variables\n",
    "%env"
   ]
  },
  {
   "cell_type": "code",
   "execution_count": null,
   "id": "09cd5f42-60a8-4a41-bb21-63d515af0a8a",
   "metadata": {},
   "outputs": [],
   "source": [
    "%env testval=123"
   ]
  },
  {
   "cell_type": "code",
   "execution_count": null,
   "id": "d20054a1-a9b0-463a-9fd2-df01d9e1a1d2",
   "metadata": {},
   "outputs": [],
   "source": [
    "# get direct access to conda\n",
    "%conda list"
   ]
  },
  {
   "cell_type": "code",
   "execution_count": null,
   "id": "26c9f17e-de40-4d60-963b-46bd1588ce14",
   "metadata": {},
   "outputs": [],
   "source": []
  }
 ],
 "metadata": {
  "kernelspec": {
   "display_name": "Python 3 (ipykernel)",
   "language": "python",
   "name": "python3"
  },
  "language_info": {
   "codemirror_mode": {
    "name": "ipython",
    "version": 3
   },
   "file_extension": ".py",
   "mimetype": "text/x-python",
   "name": "python",
   "nbconvert_exporter": "python",
   "pygments_lexer": "ipython3",
   "version": "3.8.11"
  }
 },
 "nbformat": 4,
 "nbformat_minor": 5
}
