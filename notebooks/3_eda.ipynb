{
 "cells": [
  {
   "cell_type": "code",
   "execution_count": null,
   "id": "70ae7d55-0ca3-4b1c-b747-0b537e96b340",
   "metadata": {},
   "outputs": [],
   "source": [
    "import pandas as pd\n",
    "import numpy as np\n",
    "import seaborn as sns\n",
    "import matplotlib.pyplot as plt\n"
   ]
  },
  {
   "cell_type": "code",
   "execution_count": null,
   "id": "b7d7eeef-7735-4bbb-b7fe-6f4e3c1ee13f",
   "metadata": {},
   "outputs": [],
   "source": [
    "train_2016 = pd.read_csv('https://drive.google.com/uc?id=15GlcdLJ79bc5_WhVNViepQaXvsE1vYb8')\n",
    "properties_2016 = pd.read_csv('/Users/yang/Downloads/properties_2016.csv')"
   ]
  },
  {
   "cell_type": "code",
   "execution_count": null,
   "id": "3cc8fbff-6b0f-47d2-8306-3a789e2210a8",
   "metadata": {},
   "outputs": [],
   "source": [
    "training_data = pd.merge(train_2016, properties_2016, on=['parcelid'], how='inner')\n",
    "training_data.shape"
   ]
  },
  {
   "cell_type": "markdown",
   "id": "5d83303b-a2e1-4a4d-8109-cd07e00deb30",
   "metadata": {},
   "source": [
    "# Check feature correlations"
   ]
  },
  {
   "cell_type": "code",
   "execution_count": null,
   "id": "ad303c93-222f-4c99-8bb6-09a1eb687921",
   "metadata": {},
   "outputs": [],
   "source": [
    "# Check correlation to logerror\n",
    "correlations = training_data.drop(['logerror', 'transactiondate'], axis=1).corrwith(training_data['logerror']).sort_values(ascending=False).to_frame('corr')\n",
    "coverage = (1 - training_data.isnull().sum() / training_data.shape[0]).to_frame('coverage')\n",
    "correlations.join(coverage)"
   ]
  },
  {
   "cell_type": "code",
   "execution_count": null,
   "id": "3c1c6131-211d-46df-9c12-52dd53598cec",
   "metadata": {},
   "outputs": [],
   "source": [
    "# Check correlation of high coverage features\n",
    "cols = coverage[coverage.coverage > 0.8].index.tolist()\n",
    "\n",
    "\n",
    "corrmat = training_data[cols].drop(['logerror', 'transactiondate'], axis=1).corr(method='spearman')\n",
    "f, ax = plt.subplots(figsize=(8, 8))\n",
    "\n",
    "# Draw the heatmap using seaborn\n",
    "sns.heatmap(corrmat, vmax=1., square=True)\n",
    "plt.title(\"Correlation of high coverage variables\", fontsize=15)\n",
    "plt.show()\n"
   ]
  },
  {
   "cell_type": "markdown",
   "id": "2f7d505f-029b-4f08-aa12-3d0afe4fcb6d",
   "metadata": {},
   "source": [
    "# Check distribution of single features against logerr"
   ]
  },
  {
   "cell_type": "code",
   "execution_count": null,
   "id": "09f2cecf-91d9-4793-b4a2-9519b2e8490d",
   "metadata": {},
   "outputs": [],
   "source": [
    "plt.figure(figsize=(20, 10))\n",
    "sns.kdeplot(\n",
    "    data=training_data.assign(\n",
    "        abs_err=np.abs(training_data.logerror),\n",
    "        bed_bins=pd.qcut(training_data.bedroomcnt, q=4)\n",
    "    ),\n",
    "    x='abs_err',\n",
    "    hue='bed_bins',\n",
    "    fill=True,\n",
    "    clip=(-0.1, 1.0),\n",
    "    common_norm=False\n",
    ")"
   ]
  },
  {
   "cell_type": "code",
   "execution_count": null,
   "id": "b13f34f5-664d-4af6-b554-b0c3785854f0",
   "metadata": {},
   "outputs": [],
   "source": [
    "plt.figure(figsize=(20, 10))\n",
    "sns.kdeplot(\n",
    "    data=training_data.assign(\n",
    "        abs_err=np.abs(training_data.logerror)\n",
    "    ),\n",
    "    x='abs_err',\n",
    "    hue='heatingorsystemtypeid',\n",
    "    fill=True,\n",
    "    clip=(-0.1, 1.0),\n",
    "    common_norm=False\n",
    ")"
   ]
  },
  {
   "cell_type": "code",
   "execution_count": null,
   "id": "2d97c43a-e0cf-4e8f-951d-c796faa86c48",
   "metadata": {},
   "outputs": [],
   "source": [
    "plt.figure(figsize=(20, 10))\n",
    "sns.kdeplot(\n",
    "    data=training_data.assign(\n",
    "        abs_err=np.abs(training_data.logerror)\n",
    "    ),\n",
    "    x='abs_err',\n",
    "    hue='buildingqualitytypeid',\n",
    "    fill=True,\n",
    "    clip=(-0.1, 1.0),\n",
    "    common_norm=False\n",
    ")"
   ]
  },
  {
   "cell_type": "code",
   "execution_count": null,
   "id": "06f1d211-accb-4a78-a668-1660e0e2e718",
   "metadata": {},
   "outputs": [],
   "source": [
    "plt.figure(figsize=(20, 10))\n",
    "sns.kdeplot(\n",
    "    data=training_data.assign(\n",
    "        abs_err=np.abs(training_data.logerror),\n",
    "        has_basement=training_data.basementsqft.notnull()\n",
    "    ),\n",
    "    x='abs_err',\n",
    "    hue='has_basement',\n",
    "    fill=True,\n",
    "    clip=(-0.1, 1.0),\n",
    "    common_norm=False\n",
    ")"
   ]
  },
  {
   "cell_type": "code",
   "execution_count": null,
   "id": "e0429c74-5b65-4bcd-a5ab-eb22dc436f56",
   "metadata": {},
   "outputs": [],
   "source": [
    "plt.figure(figsize=(20, 10))\n",
    "sns.kdeplot(\n",
    "    data=training_data.assign(\n",
    "        abs_err=np.abs(training_data.logerror),\n",
    "        has_shed=training_data.yardbuildingsqft26.notnull()\n",
    "    ),\n",
    "    x='abs_err',\n",
    "    hue='has_shed',\n",
    "    fill=True,\n",
    "    clip=(-0.1, 1.0),\n",
    "    common_norm=False\n",
    ")"
   ]
  },
  {
   "cell_type": "code",
   "execution_count": null,
   "id": "839eca41-0c24-486c-a354-176d5406e1a3",
   "metadata": {},
   "outputs": [],
   "source": [
    "plt.figure(figsize=(20, 10))\n",
    "sns.kdeplot(\n",
    "    data=training_data.assign(\n",
    "        abs_err=np.abs(training_data.logerror),\n",
    "        has_garage=training_data.garagecarcnt.notnull()\n",
    "    ),\n",
    "    x='abs_err',\n",
    "    hue='has_garage',\n",
    "    fill=True,\n",
    "    clip=(-0.1, 1.0),\n",
    "    common_norm=False\n",
    ")"
   ]
  },
  {
   "cell_type": "markdown",
   "id": "7ac7e442-7765-4104-8d5e-90683e7287fa",
   "metadata": {},
   "source": [
    "# Some feature conclusions\n",
    "- Having a basement will increase error by a lot, but most homes don't have basements\n",
    "- 2-4 bedrooms seems to be the sweet spot, when bedrooms are higher or lower things get worse\n",
    "- For a lot of low coverage features, the presence or absence (i.e. a binary variable) is a pretty important indicator for predicted error"
   ]
  },
  {
   "cell_type": "code",
   "execution_count": null,
   "id": "9652eee4-5825-4b98-aba7-3959cc981479",
   "metadata": {},
   "outputs": [],
   "source": []
  }
 ],
 "metadata": {
  "kernelspec": {
   "display_name": "Python 3 (ipykernel)",
   "language": "python",
   "name": "python3"
  },
  "language_info": {
   "codemirror_mode": {
    "name": "ipython",
    "version": 3
   },
   "file_extension": ".py",
   "mimetype": "text/x-python",
   "name": "python",
   "nbconvert_exporter": "python",
   "pygments_lexer": "ipython3",
   "version": "3.8.11"
  }
 },
 "nbformat": 4,
 "nbformat_minor": 5
}
