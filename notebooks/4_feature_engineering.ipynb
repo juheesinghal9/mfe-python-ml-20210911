{
 "cells": [
  {
   "cell_type": "code",
   "execution_count": null,
   "id": "9e128f69-0dd0-44ee-a66b-3548c0b0ae7b",
   "metadata": {},
   "outputs": [],
   "source": [
    "import pandas as pd\n",
    "import numpy as np\n",
    "\n",
    "from sklearn.base import BaseEstimator, TransformerMixin\n",
    "from sklearn.pipeline import Pipeline"
   ]
  },
  {
   "cell_type": "code",
   "execution_count": null,
   "id": "cefb65ef-c5d0-423d-b3bb-62ad88a3df3c",
   "metadata": {},
   "outputs": [],
   "source": [
    "train_2016 = pd.read_csv('https://drive.google.com/uc?id=15GlcdLJ79bc5_WhVNViepQaXvsE1vYb8')\n",
    "properties_2016 = pd.read_csv('/Users/yang/Downloads/properties_2016.csv')"
   ]
  },
  {
   "cell_type": "code",
   "execution_count": null,
   "id": "ed947af4-a9f2-4e67-9ac9-9c9005ea08b7",
   "metadata": {},
   "outputs": [],
   "source": [
    "training_data = pd.merge(train_2016, properties_2016, on=['parcelid'], how='inner')\n",
    "training_data.shape"
   ]
  },
  {
   "cell_type": "code",
   "execution_count": null,
   "id": "140c8ff3-f326-495b-8155-9e48c763e1f0",
   "metadata": {},
   "outputs": [],
   "source": [
    "# Lets create a transformer\n",
    "class BinaryNullTransformer(BaseEstimator, TransformerMixin):\n",
    "    def __init__(self, columns):\n",
    "        self.columns = columns\n",
    "        \n",
    "    def fit(self, X, y=None):\n",
    "        return self\n",
    "    \n",
    "    def transform(self, X):\n",
    "        return X.assign(**{col: X[col].notnull() for col in self.columns})"
   ]
  },
  {
   "cell_type": "code",
   "execution_count": null,
   "id": "0aaff99e-1a43-42f9-b351-1b3505ab16fa",
   "metadata": {},
   "outputs": [],
   "source": [
    "# Let's try it and compare with original data\n",
    "exist_or_not_variables = ['garagecarcnt', 'yardbuildingsqft26', 'basementsqft', 'fireplacecnt', 'yardbuildingsqft17']\n",
    "transformer = BinaryNullTransformer(exist_or_not_variables)\n",
    "transformed_data = transformer.fit_transform(training_data.head(20))\n",
    "transformed_data[exist_or_not_variables].rename(\n",
    "    columns={col: f'{col}_transformed' for col in exist_or_not_variables}\n",
    ").join(training_data.head(20)[exist_or_not_variables])\n"
   ]
  },
  {
   "cell_type": "code",
   "execution_count": null,
   "id": "e89659f8-3c94-4f5d-b1e2-2ed1a3ca9622",
   "metadata": {},
   "outputs": [],
   "source": [
    "# Let's create another transformer\n",
    "class IntervalCategorizer(BaseEstimator, TransformerMixin):\n",
    "    def __init__(self, column, rng=(2,4)):\n",
    "        self.column = column\n",
    "        self.rng = rng\n",
    "        \n",
    "    def fit(self, X, y=None):\n",
    "        return self\n",
    "    \n",
    "    def transform(self, X):\n",
    "        return X.assign(**{self.column: np.where((X[self.column] >= self.rng[0]) & (X[self.column] <= self.rng[1]), True, False)})"
   ]
  },
  {
   "cell_type": "code",
   "execution_count": null,
   "id": "d6e70041-f52a-4d94-83e8-c5be6b06e843",
   "metadata": {},
   "outputs": [],
   "source": [
    "# Let's try it again and compare with original data\n",
    "transformer = IntervalCategorizer('bedroomcnt')\n",
    "transformed_data = transformer.fit_transform(training_data.head(20))\n",
    "transformed_data[['bedroomcnt']].rename(columns={'bedroomcnt': 'transformed'}).join(training_data.head(20)[['bedroomcnt']])"
   ]
  },
  {
   "cell_type": "code",
   "execution_count": null,
   "id": "7107a258-03c2-48ed-ae5f-96b0c4ad4dcd",
   "metadata": {},
   "outputs": [],
   "source": [
    "# Last transformer\n",
    "class Normalizer(BaseEstimator, TransformerMixin):\n",
    "    def __init__(self, columns):\n",
    "        self.columns = columns\n",
    "\n",
    "    def fit(self, X, y=None):\n",
    "        self.means = X[self.columns].mean()\n",
    "        self.std = X[self.columns].std()\n",
    "        \n",
    "        return self\n",
    "    \n",
    "    def transform(self, X):\n",
    "        return X.assign(**{col: (X[col] - self.means[col]) / self.std[col] for col in self.columns})"
   ]
  },
  {
   "cell_type": "code",
   "execution_count": null,
   "id": "5040298f-0e07-428a-83ee-686f4c893855",
   "metadata": {},
   "outputs": [],
   "source": [
    "# Let's try it one last time and compare with original data\n",
    "transformer = Normalizer(['finishedsquarefeet12', 'structuretaxvaluedollarcnt'])\n",
    "transformed_data = transformer.fit_transform(training_data.head(20))\n",
    "transformed_data[['bedroomcnt']].rename(columns={'bedroomcnt': 'transformed'}).join(training_data.head(20)[['bedroomcnt']])"
   ]
  },
  {
   "cell_type": "code",
   "execution_count": null,
   "id": "bb3d9275-e3ce-4a2c-9560-755985876d97",
   "metadata": {},
   "outputs": [],
   "source": [
    "# Transformer to select our variables\n",
    "class FeatureSelector(BaseEstimator, TransformerMixin):\n",
    "    def __init__(self, columns):\n",
    "        self.columns = columns\n",
    "        \n",
    "    def fit(self, X, y=None):\n",
    "        return self\n",
    "    \n",
    "    def transform(self, X):\n",
    "        return X[self.columns]"
   ]
  },
  {
   "cell_type": "code",
   "execution_count": null,
   "id": "b232475f-6c7f-4ce1-9954-99ae19cb4b68",
   "metadata": {},
   "outputs": [],
   "source": [
    "# issue - we now have 4 normalizers, and it's a pain to actually run these manually everytime\n",
    "# solution - pipelines.  Pipelines take a set of transforms and a final estimator.  Let's see how this works\n",
    "exist_or_not_variables = ['garagecarcnt', 'yardbuildingsqft26', 'basementsqft', 'fireplacecnt', 'yardbuildingsqft17']\n",
    "bedrooms = ['bedroomcnt']\n",
    "bathrooms = ['fullbathcnt']\n",
    "normalized_variables = ['finishedsquarefeet12', 'structuretaxvaluedollarcnt']\n",
    "other_variables = ['yearbuilt']\n",
    "\n",
    "transformer_pipeline = Pipeline(\n",
    "    steps=[\n",
    "        ('binary_null', BinaryNullTransformer(exist_or_not_variables)),\n",
    "        ('bedrooms', IntervalCategorizer(*bedrooms, (2, 4))),\n",
    "        ('bathrooms', IntervalCategorizer(*bathrooms, (2, 4))),\n",
    "        ('normalize', Normalizer(normalized_variables)),\n",
    "        ('select_features', FeatureSelector([*exist_or_not_variables, *bedrooms, *bathrooms, *normalized_variables, *other_variables]))\n",
    "    ]\n",
    ")"
   ]
  },
  {
   "cell_type": "code",
   "execution_count": null,
   "id": "25e37f4a-b6bf-478d-a456-b42b3a21e92a",
   "metadata": {},
   "outputs": [],
   "source": [
    "# let's try using the pipeline\n",
    "transformed_data = transformer_pipeline.fit_transform(training_data.head(20))\n",
    "\n",
    "# transformed_data[exist_or_not_variables].rename(\n",
    "#     columns={col: f'{col}_transformed' for col in exist_or_not_variables}\n",
    "# ).join(training_data.head(20)[exist_or_not_variables])\n",
    "\n",
    "transformed_data"
   ]
  }
 ],
 "metadata": {
  "kernelspec": {
   "display_name": "Python 3 (ipykernel)",
   "language": "python",
   "name": "python3"
  },
  "language_info": {
   "codemirror_mode": {
    "name": "ipython",
    "version": 3
   },
   "file_extension": ".py",
   "mimetype": "text/x-python",
   "name": "python",
   "nbconvert_exporter": "python",
   "pygments_lexer": "ipython3",
   "version": "3.8.11"
  }
 },
 "nbformat": 4,
 "nbformat_minor": 5
}
